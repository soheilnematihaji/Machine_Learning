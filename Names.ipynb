{
 "cells": [
  {
   "cell_type": "code",
   "execution_count": 2,
   "metadata": {},
   "outputs": [],
   "source": [
    "import pandas as pd\n",
    "import numpy as np\n",
    "from numpy import nan\n",
    "import matplotlib.pyplot as plt\n",
    "import seaborn as sns\n",
    "from sklearn.model_selection import train_test_split, KFold, cross_val_score"
   ]
  },
  {
   "cell_type": "code",
   "execution_count": 3,
   "metadata": {},
   "outputs": [
    {
     "name": "stdout",
     "output_type": "stream",
     "text": [
      "             Gender\n",
      "count  99999.000000\n",
      "mean       0.500005\n",
      "std        0.500003\n",
      "min        0.000000\n",
      "25%        0.000000\n",
      "50%        1.000000\n",
      "75%        1.000000\n",
      "max        1.000000\n"
     ]
    },
    {
     "data": {
      "text/plain": [
       "Person Name    False\n",
       "Gender         False\n",
       "Train/Test     False\n",
       "dtype: bool"
      ]
     },
     "execution_count": 3,
     "metadata": {},
     "output_type": "execute_result"
    }
   ],
   "source": [
    "#read the data\n",
    "df=pd.read_csv('allnames.tsv',sep='\\t')\n",
    "\n",
    "#droping columns with no use\n",
    "df=df.drop('Person ID',1)\n",
    "\n",
    "#changing the type of Gender\n",
    "dic={'Male':0, 'Female':1}\n",
    "df['Gender']=df['Gender'].map(dic)\n",
    "\n",
    "# Gettin insights from mean, max, min, std\n",
    "print(df.describe())\n",
    "\n",
    "# see if there is any nan value\n",
    "df.isna().any()"
   ]
  },
  {
   "cell_type": "code",
   "execution_count": 4,
   "metadata": {},
   "outputs": [],
   "source": [
    "# Getting data to start c\n",
    "OutcomeColumn='Gender'\n",
    "X=df.drop(OutcomeColumn,1)\n",
    "y=df[OutcomeColumn]\n",
    "\n",
    "X_train=X[df['Train/Test']=='Train']\n",
    "y_train=y[df['Train/Test']=='Train']\n",
    "X_test=X[df['Train/Test']=='Test']\n",
    "y_test=y[df['Train/Test']=='Test']\n",
    "# Creating traning set and test set\n"
   ]
  },
  {
   "cell_type": "code",
   "execution_count": 5,
   "metadata": {},
   "outputs": [
    {
     "name": "stderr",
     "output_type": "stream",
     "text": [
      "<ipython-input-5-23ec3503bc7e>:8: SettingWithCopyWarning: \n",
      "A value is trying to be set on a copy of a slice from a DataFrame.\n",
      "Try using .loc[row_indexer,col_indexer] = value instead\n",
      "\n",
      "See the caveats in the documentation: https://pandas.pydata.org/pandas-docs/stable/user_guide/indexing.html#returning-a-view-versus-a-copy\n",
      "  X_train[\"FirstName\"] = X_train[\"Person Name\"].apply(gettingFirstName)\n",
      "<ipython-input-5-23ec3503bc7e>:9: SettingWithCopyWarning: \n",
      "A value is trying to be set on a copy of a slice from a DataFrame.\n",
      "Try using .loc[row_indexer,col_indexer] = value instead\n",
      "\n",
      "See the caveats in the documentation: https://pandas.pydata.org/pandas-docs/stable/user_guide/indexing.html#returning-a-view-versus-a-copy\n",
      "  X_test[\"FirstName\"] = X_test[\"Person Name\"].apply(gettingFirstName)\n",
      "<ipython-input-5-23ec3503bc7e>:10: SettingWithCopyWarning: \n",
      "A value is trying to be set on a copy of a slice from a DataFrame.\n",
      "Try using .loc[row_indexer,col_indexer] = value instead\n",
      "\n",
      "See the caveats in the documentation: https://pandas.pydata.org/pandas-docs/stable/user_guide/indexing.html#returning-a-view-versus-a-copy\n",
      "  X_train[\"3Letter\"] = X_train[\"FirstName\"].apply(gettingiLetter,i=3)\n",
      "<ipython-input-5-23ec3503bc7e>:11: SettingWithCopyWarning: \n",
      "A value is trying to be set on a copy of a slice from a DataFrame.\n",
      "Try using .loc[row_indexer,col_indexer] = value instead\n",
      "\n",
      "See the caveats in the documentation: https://pandas.pydata.org/pandas-docs/stable/user_guide/indexing.html#returning-a-view-versus-a-copy\n",
      "  X_test[\"3Letter\"] = X_test[\"FirstName\"].apply(gettingiLetter,i=3)\n",
      "<ipython-input-5-23ec3503bc7e>:12: SettingWithCopyWarning: \n",
      "A value is trying to be set on a copy of a slice from a DataFrame.\n",
      "Try using .loc[row_indexer,col_indexer] = value instead\n",
      "\n",
      "See the caveats in the documentation: https://pandas.pydata.org/pandas-docs/stable/user_guide/indexing.html#returning-a-view-versus-a-copy\n",
      "  X_train[\"2Letter\"] = X_train[\"FirstName\"].apply(gettingiLetter,i=2)\n",
      "<ipython-input-5-23ec3503bc7e>:13: SettingWithCopyWarning: \n",
      "A value is trying to be set on a copy of a slice from a DataFrame.\n",
      "Try using .loc[row_indexer,col_indexer] = value instead\n",
      "\n",
      "See the caveats in the documentation: https://pandas.pydata.org/pandas-docs/stable/user_guide/indexing.html#returning-a-view-versus-a-copy\n",
      "  X_test[\"2Letter\"] = X_test[\"FirstName\"].apply(gettingiLetter,i=2)\n"
     ]
    }
   ],
   "source": [
    "import nltk\n",
    "def gettingFirstName(name):\n",
    "        fname=nltk.word_tokenize(name)[0]\n",
    "        return fname\n",
    "def gettingiLetter(name,i):\n",
    "    return name[:i]\n",
    "\n",
    "X_train[\"FirstName\"] = X_train[\"Person Name\"].apply(gettingFirstName)\n",
    "X_test[\"FirstName\"] = X_test[\"Person Name\"].apply(gettingFirstName)\n",
    "X_train[\"3Letter\"] = X_train[\"FirstName\"].apply(gettingiLetter,i=3)\n",
    "X_test[\"3Letter\"] = X_test[\"FirstName\"].apply(gettingiLetter,i=3)\n",
    "X_train[\"2Letter\"] = X_train[\"FirstName\"].apply(gettingiLetter,i=2)\n",
    "X_test[\"2Letter\"] = X_test[\"FirstName\"].apply(gettingiLetter,i=2)\n"
   ]
  },
  {
   "cell_type": "code",
   "execution_count": 6,
   "metadata": {},
   "outputs": [],
   "source": [
    "# we use crosstab to get info about name to 0,1 mapping\n",
    "ct_FirstName=pd.crosstab(X_train['FirstName'],y_train)\n",
    "ct_3Letter=pd.crosstab(X_train['3Letter'],y_train)\n",
    "ct_2Letter=pd.crosstab(X_train['2Letter'],y_train)"
   ]
  },
  {
   "cell_type": "code",
   "execution_count": 7,
   "metadata": {},
   "outputs": [],
   "source": [
    "# This method helps to find closest String\n",
    "def getClosestString(name):\n",
    "    close=name\n",
    "    dis=5\n",
    "    for temp in AllCTKeys:                             \n",
    "        tempdis=nltk.edit_distance(temp, name)\n",
    "        if tempdis<dis:\n",
    "            close=temp\n",
    "            dis=tempdis\n",
    "        if dis==1:\n",
    "            break\n",
    "    return close"
   ]
  },
  {
   "cell_type": "code",
   "execution_count": 8,
   "metadata": {},
   "outputs": [
    {
     "name": "stdout",
     "output_type": "stream",
     "text": [
      "              precision    recall  f1-score   support\n",
      "\n",
      "           0       0.96      0.94      0.95     10060\n",
      "           1       0.94      0.96      0.95      9947\n",
      "\n",
      "    accuracy                           0.95     20007\n",
      "   macro avg       0.95      0.95      0.95     20007\n",
      "weighted avg       0.95      0.95      0.95     20007\n",
      "\n",
      "% of totalCorrect: 0.9499175288648973\n",
      "totalCorrect:19005\n"
     ]
    }
   ],
   "source": [
    "from sklearn.metrics import classification_report\n",
    "#Saving the keys for checks\n",
    "AllCTKeys=set(ct_FirstName[0].index)\n",
    "AllCt3Keys=set(ct_3Letter[0].index)\n",
    "AllCt2Keys=set(ct_2Letter[0].index)\n",
    "\n",
    "# This method will return majority of one of female count or male count from the name \n",
    "def checkFirstName(name):\n",
    "    maleCount=ct_FirstName[0][name]\n",
    "    femaleCount=ct_FirstName[1][name]\n",
    "    if femaleCount>=maleCount:\n",
    "        return 1\n",
    "    else:\n",
    "        return 0\n",
    "# This method will return majority of one of female count or male count from 2 gram and 3 gram of chars\n",
    "def checkNLetter(name,length,ct_NLetter):\n",
    "    maleCount=ct_NLetter[0][name[:length]]\n",
    "    femaleCount=ct_NLetter[1][name[:length]]\n",
    "    if femaleCount>=maleCount:\n",
    "        return 1\n",
    "    else:\n",
    "        return 0\n",
    "    \n",
    "# The model Works similar to a disicion tree, and also applying a probablity compersion on top\n",
    "\"\"\" To Do\n",
    "    Should apply some prebuilt models from sklearn to compare the accuracy and results\"\"\" \n",
    "def model(test):\n",
    "    name=test[\"FirstName\"]\n",
    "# The algorithm first checks if the firstName is in the key set of training then getting max\n",
    "    if name in AllCTKeys :\n",
    "        return checkFirstName(name)\n",
    "# If none of the above worked we check the closest string to find the answer \n",
    "    if name[:3] in AllCt3Keys:\n",
    "        temp = getClosestString(name)\n",
    "        if temp!=name:\n",
    "            return checkFirstName(temp)\n",
    "        else: \n",
    "            return checkNLetter(name,3,ct_3Letter)\n",
    "    else:\n",
    "        temp = getClosestString(name)\n",
    "        if temp!=name:\n",
    "            return checkFirstName(temp)\n",
    "# If none of the above worked we check the first2 letters   \n",
    "    if name[:2] in AllCt2Keys:\n",
    "        return checkNLetter(name,2,ct_2Letter)\n",
    "# If none of the above worked we return 1   \n",
    "    return 1\n",
    "    \n",
    "y_pred=  X_test.apply(model,axis=1) \n",
    "print(classification_report(y_test, y_pred, target_names=['0','1']))\n",
    "totalCorrect=len(y_pred[y_pred==y_test])\n",
    "print(f'% of totalCorrect: {totalCorrect/len(y_pred)}')\n",
    "print(f'totalCorrect:{totalCorrect}')"
   ]
  }
 ],
 "metadata": {
  "kernelspec": {
   "display_name": "Python 3",
   "language": "python",
   "name": "python3"
  },
  "language_info": {
   "codemirror_mode": {
    "name": "ipython",
    "version": 3
   },
   "file_extension": ".py",
   "mimetype": "text/x-python",
   "name": "python",
   "nbconvert_exporter": "python",
   "pygments_lexer": "ipython3",
   "version": "3.8.5"
  }
 },
 "nbformat": 4,
 "nbformat_minor": 2
}
